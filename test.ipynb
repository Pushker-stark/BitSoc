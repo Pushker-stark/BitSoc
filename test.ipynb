{
 "cells": [
  {
   "cell_type": "code",
   "execution_count": 12,
   "id": "manual-quarter",
   "metadata": {},
   "outputs": [],
   "source": [
    "class MempoolTransaction():\n",
    "     def __init__(self, txid, fee, weight, parents):\n",
    "        self.txid = txid\n",
    "        self.fee = int(fee)\n",
    "        self.weight=int(weight)\n",
    "        \n",
    "        # TODO: add code to parse weight and parents fields\n",
    "        \n"
   ]
  },
  {
   "cell_type": "code",
   "execution_count": 19,
   "id": "dried-rugby",
   "metadata": {},
   "outputs": [
    {
     "ename": "AttributeError",
     "evalue": "'builtin_function_or_method' object has no attribute 'digest'",
     "output_type": "error",
     "traceback": [
      "\u001b[1;31m---------------------------------------------------------------------------\u001b[0m",
      "\u001b[1;31mAttributeError\u001b[0m                            Traceback (most recent call last)",
      "\u001b[1;32m<ipython-input-19-6a1b036743ea>\u001b[0m in \u001b[0;36m<module>\u001b[1;34m\u001b[0m\n\u001b[0;32m      1\u001b[0m \u001b[0mx\u001b[0m\u001b[1;33m=\u001b[0m\u001b[1;34m\"gjgjjhhkkhkhkhhkkhkhkh\"\u001b[0m\u001b[1;33m\u001b[0m\u001b[1;33m\u001b[0m\u001b[0m\n\u001b[1;32m----> 2\u001b[1;33m \u001b[0mhex\u001b[0m\u001b[1;33m.\u001b[0m\u001b[0mdigest\u001b[0m\u001b[1;33m(\u001b[0m\u001b[0mx\u001b[0m\u001b[1;33m)\u001b[0m\u001b[1;33m\u001b[0m\u001b[1;33m\u001b[0m\u001b[0m\n\u001b[0m\u001b[0;32m      3\u001b[0m \u001b[0mprint\u001b[0m\u001b[1;33m(\u001b[0m\u001b[0mx\u001b[0m\u001b[1;33m)\u001b[0m\u001b[1;33m\u001b[0m\u001b[1;33m\u001b[0m\u001b[0m\n",
      "\u001b[1;31mAttributeError\u001b[0m: 'builtin_function_or_method' object has no attribute 'digest'"
     ]
    }
   ],
   "source": [
    "x=\"gjgjjhhkkhkhkhhkkhkhkh\"\n",
    "hex.digest(x)\n",
    "print(x)"
   ]
  },
  {
   "cell_type": "code",
   "execution_count": 13,
   "id": "present-water",
   "metadata": {},
   "outputs": [],
   "source": [
    "def parse_mempool_csv():\n",
    "    \"\"\"Parse the CSV file and return a list of MempoolTransactions.\"\"\"\n",
    "    with open(r'C:\\Users\\Asus\\Dropbox\\My PC (LAPTOP-P3LNV77V)\\Downloads\\summerofbitcoin_challenge\\mempool.csv') as f:\n",
    "        print([MempoolTransaction(*line.strip().split(',')) for line in f.readlines()])\n",
    "        return([MempoolTransaction(*line.strip().split(',')) for line in f.readlines()])"
   ]
  },
  {
   "cell_type": "code",
   "execution_count": 15,
   "id": "generous-courtesy",
   "metadata": {},
   "outputs": [
    {
     "ename": "NameError",
     "evalue": "name 'self' is not defined",
     "output_type": "error",
     "traceback": [
      "\u001b[1;31m---------------------------------------------------------------------------\u001b[0m",
      "\u001b[1;31mNameError\u001b[0m                                 Traceback (most recent call last)",
      "\u001b[1;32m<ipython-input-15-2012eb27d3b6>\u001b[0m in \u001b[0;36m<module>\u001b[1;34m\u001b[0m\n\u001b[1;32m----> 1\u001b[1;33m \u001b[0mself\u001b[0m\u001b[1;33m.\u001b[0m\u001b[0mchain\u001b[0m\u001b[1;33m(\u001b[0m\u001b[1;33m)\u001b[0m\u001b[1;33m\u001b[0m\u001b[1;33m\u001b[0m\u001b[0m\n\u001b[0m",
      "\u001b[1;31mNameError\u001b[0m: name 'self' is not defined"
     ]
    }
   ],
   "source": [
    "self.chain()"
   ]
  },
  {
   "cell_type": "code",
   "execution_count": null,
   "id": "sweet-concentrate",
   "metadata": {},
   "outputs": [
    {
     "name": "stdout",
     "output_type": "stream",
     "text": [
      " * Serving Flask app \"__main__\" (lazy loading)\n",
      " * Environment: production\n",
      "   WARNING: This is a development server. Do not use it in a production deployment.\n",
      "   Use a production WSGI server instead.\n",
      " * Debug mode: off\n"
     ]
    },
    {
     "name": "stderr",
     "output_type": "stream",
     "text": [
      " * Running on http://127.0.0.1:5000/ (Press CTRL+C to quit)\n",
      "127.0.0.1 - - [14/Jun/2021 13:09:22] \"\u001b[37mGET /get_chain HTTP/1.1\u001b[0m\" 200 -\n",
      "127.0.0.1 - - [14/Jun/2021 13:09:59] \"\u001b[33mGET /valid_block HTTP/1.1\u001b[0m\" 404 -\n",
      "127.0.0.1 - - [14/Jun/2021 13:10:58] \"\u001b[33mPOST /valid_block HTTP/1.1\u001b[0m\" 404 -\n",
      "127.0.0.1 - - [14/Jun/2021 13:11:39] \"\u001b[33mGET /valid_block HTTP/1.1\u001b[0m\" 404 -\n",
      "127.0.0.1 - - [14/Jun/2021 13:12:42] \"\u001b[37mGET /valid HTTP/1.1\u001b[0m\" 200 -\n"
     ]
    }
   ],
   "source": [
    "# Python programm to create Blockchain\n",
    "\n",
    "# For timestamp\n",
    "import datetime\n",
    "\n",
    "# Calculating the hash\n",
    "# in order to add digital\n",
    "# fingerprints to the blocks\n",
    "import hashlib\n",
    "\n",
    "# To store data\n",
    "# in our blockchain\n",
    "import json\n",
    "\n",
    "# Flask is for creating the web\n",
    "# app and jsonify is for\n",
    "# displaying the blockchain\n",
    "from flask import Flask, jsonify\n",
    "\n",
    "\n",
    "class Blockchain:\n",
    "\t\n",
    "\t# This function is created\n",
    "\t# to create the very first\n",
    "\t# block and set it's hash to \"0\"\n",
    "\tdef __init__(self):\n",
    "\t\tself.chain = []\n",
    "\t\tself.create_block(proof=1, previous_hash='0')\n",
    "\n",
    "\t# This function is created\n",
    "\t# to add further blocks\n",
    "\t# into the chain\n",
    "\tdef create_block(self, proof, previous_hash):\n",
    "\t\tblock = {'index': len(self.chain) + 1,\n",
    "\t\t\t\t'timestamp': str(datetime.datetime.now()),\n",
    "\t\t\t\t'proof': proof,\n",
    "\t\t\t\t'previous_hash': previous_hash}\n",
    "\t\tself.chain.append(block)\n",
    "\t\treturn block\n",
    "\t\t\n",
    "\t# This function is created\n",
    "\t# to display the previous block\n",
    "\tdef print_previous_block(self):\n",
    "\t\treturn self.chain[-1]\n",
    "\t\t\n",
    "\t# This is the function for proof of work\n",
    "\t# and used to successfully mine the block\n",
    "\tdef proof_of_work(self, previous_proof):\n",
    "\t\tnew_proof = 1\n",
    "\t\tcheck_proof = False\n",
    "\t\t\n",
    "\t\twhile check_proof is False:\n",
    "\t\t\thash_operation = hashlib.sha256(\n",
    "\t\t\t\tstr(new_proof**2 - previous_proof**2).encode()).hexdigest()\n",
    "\t\t\tif hash_operation[:4] == '00000':\n",
    "\t\t\t\tcheck_proof = True\n",
    "\t\t\telse:\n",
    "\t\t\t\tnew_proof += 1\n",
    "\t\t\t\t\n",
    "\t\treturn new_proof\n",
    "\n",
    "\tdef hash(self, block):\n",
    "\t\tencoded_block = json.dumps(block, sort_keys=True).encode()\n",
    "\t\treturn hashlib.sha256(encoded_block).hexdigest()\n",
    "\n",
    "\tdef chain_valid(self, chain):\n",
    "\t\tprevious_block = chain[0]\n",
    "\t\tblock_index = 1\n",
    "\t\t\n",
    "\t\twhile block_index < len(chain):\n",
    "\t\t\tblock = chain[block_index]\n",
    "\t\t\tif block['previous_hash'] != self.hash(previous_block):\n",
    "\t\t\t\treturn False\n",
    "\t\t\t\t\n",
    "\t\t\tprevious_proof = previous_block['proof']\n",
    "\t\t\tproof = block['proof']\n",
    "\t\t\thash_operation = hashlib.sha256(\n",
    "\t\t\t\tstr(proof**2 - previous_proof**2).encode()).hexdigest()\n",
    "\t\t\t\n",
    "\t\t\tif hash_operation[:4] != '00000':\n",
    "\t\t\t\treturn False\n",
    "\t\t\tprevious_block = block\n",
    "\t\t\tblock_index += 1\n",
    "\t\t\n",
    "\t\treturn True\n",
    "\n",
    "\n",
    "# Creating the Web\n",
    "# App using flask\n",
    "app = Flask(__name__)\n",
    "# Create the object\n",
    "# of the class blockchain\n",
    "blockchain = Blockchain()\n",
    "\n",
    "# Mining a new block\n",
    "@app.route('/mine_block', methods=['GET'])\n",
    "def mine_block():\n",
    "\tprevious_block = blockchain.print_previous_block()\n",
    "\tprevious_proof = previous_block['proof']\n",
    "\tproof = blockchain.proof_of_work(previous_proof)\n",
    "\tprevious_hash = blockchain.hash(previous_block)\n",
    "\tblock = blockchain.create_block(proof, previous_hash)\n",
    "\t\n",
    "\tresponse = {'message': 'A block is MINED',\n",
    "\t\t\t\t'index': block['index'],\n",
    "\t\t\t\t'timestamp': block['timestamp'],\n",
    "\t\t\t\t'proof': block['proof'],\n",
    "\t\t\t\t'previous_hash': block['previous_hash']}\n",
    "\t\n",
    "\treturn jsonify(response), 200\n",
    "\n",
    "# Display blockchain in json format\n",
    "@app.route('/get_chain', methods=['GET'])\n",
    "def display_chain():\n",
    "\tresponse = {'chain': blockchain.chain,\n",
    "\t\t\t\t'length': len(blockchain.chain)}\n",
    "\treturn jsonify(response), 200\n",
    "\n",
    "# Check validity of blockchain\n",
    "@app.route('/valid', methods=['GET'])\n",
    "def valid():\n",
    "\tvalid = blockchain.chain_valid(blockchain.chain)\n",
    "\t\n",
    "\tif valid:\n",
    "\t\tresponse = {'message': 'The Blockchain is valid.'}\n",
    "\telse:\n",
    "\t\tresponse = {'message': 'The Blockchain is not valid.'}\n",
    "\treturn jsonify(response), 200\n",
    "\n",
    "# app.config['DEBUG'] = True\n",
    "# Run the flask server locally\n",
    "app.run(host='127.0.0.1', port=5000)\n",
    "# app.run(host='0.0.0.0', port=5000)\n",
    "# app.run(host='127.0.0.1', port=localhost)\n"
   ]
  },
  {
   "cell_type": "code",
   "execution_count": null,
   "id": "center-compact",
   "metadata": {},
   "outputs": [],
   "source": []
  }
 ],
 "metadata": {
  "kernelspec": {
   "display_name": "Python 3",
   "language": "python",
   "name": "python3"
  },
  "language_info": {
   "codemirror_mode": {
    "name": "ipython",
    "version": 3
   },
   "file_extension": ".py",
   "mimetype": "text/x-python",
   "name": "python",
   "nbconvert_exporter": "python",
   "pygments_lexer": "ipython3",
   "version": "3.8.6"
  }
 },
 "nbformat": 4,
 "nbformat_minor": 5
}
